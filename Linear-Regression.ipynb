{
 "cells": [
  {
   "cell_type": "markdown",
   "metadata": {},
   "source": [
    "# Multivariate-Linear-Regression-From-Scratch"
   ]
  },
  {
   "cell_type": "markdown",
   "metadata": {},
   "source": [
    "**Model:**\n",
    "$$\n",
    "y_i = \\beta_0 + \\beta_1 x_{i1} + \\beta_2 x_{i2} + \\dots + \\beta_k x_{ik} + \\epsilon\n",
    "$$"
   ]
  },
  {
   "cell_type": "markdown",
   "metadata": {},
   "source": [
    "**Implemented Model**\n",
    "\n",
    "```python\n",
    "y_i = beta_0 + beta_1 * x_i_1 + beta_2 * x_i_2 + ..........+ beta_k * x_i_k + epsilon\n",
    "\n",
    "Beta_vector = [b_0, b_1, b_2, ....... b_k]\n",
    "\n",
    "X_i = [x_i_1, x_i_2, ........ x_i_k]\n",
    "\n",
    "Y_i = Beta_vector * x_i + epsilon   # dot product of Beta_vector and x_i\n",
    "```"
   ]
  },
  {
   "cell_type": "markdown",
   "metadata": {},
   "source": [
    "## General Assumptions"
   ]
  },
  {
   "cell_type": "markdown",
   "metadata": {},
   "source": [
    "- Features are linearly independent-which is that there is no way to write any other as a weighted sum of its own\n",
    "\n",
    "- Features are all uncorrelated with epslon\n",
    "\n",
    "- For the sake of implementition, we assume the value of epsilon is zero on average (hence ignoring its effects)\n"
   ]
  },
  {
   "cell_type": "markdown",
   "metadata": {},
   "source": [
    "## Imports"
   ]
  },
  {
   "cell_type": "code",
   "execution_count": null,
   "metadata": {},
   "outputs": [],
   "source": [
    "import math\n",
    "import random\n",
    "import numpy as np\n",
    "import pandas as pd\n",
    "from collections import Counter\n",
    "from typing import List, Tuple, TypeVar\n",
    "import tqdm"
   ]
  },
  {
   "cell_type": "markdown",
   "metadata": {},
   "source": [
    "Type definitions:"
   ]
  },
  {
   "cell_type": "code",
   "execution_count": null,
   "metadata": {},
   "outputs": [],
   "source": [
    "Vector = List[float]"
   ]
  },
  {
   "cell_type": "markdown",
   "metadata": {},
   "source": [
    "## Pre-requsite fucntions"
   ]
  },
  {
   "cell_type": "markdown",
   "metadata": {},
   "source": [
    "Any machine learning model involves linear algebraic computations and statistical fucntions"
   ]
  },
  {
   "cell_type": "code",
   "execution_count": null,
   "metadata": {},
   "outputs": [],
   "source": [
    "# pre-reqs\n",
    "def mean(xs: List[float]) -> float:\n",
    "    return sum(xs) / len(xs)\n",
    "\n",
    "\n",
    "def error_from_mean(xs: List[float]) -> List[float]:\n",
    "    x_bar = mean(xs)\n",
    "    return [x - x_bar for x in xs]\n",
    "\n",
    "\n",
    "def dot_product(X: List[float], Y: List[float]) -> float:\n",
    "    return sum(x * y for x, y in zip(X, Y))\n",
    "\n",
    "\n",
    "def squared_error(xs_error: List[float]) -> List[float]:\n",
    "    '''Returns the squared value of each element in the list of error'''\n",
    "    return [x_i**2 for x_i in xs_error]\n",
    "\n",
    "\n",
    "def variance(xs: List[float]) -> float:\n",
    "    '''accepts a list of data points and returns its variance from mean'''\n",
    "    n = len(xs)\n",
    "    xs_error = error_from_mean(xs)\n",
    "    xs_error_squared = squared_error(xs_error)\n",
    "    return sum(xs_error_squared) / (n - 1)\n",
    "\n",
    "\n",
    "def std_deviation(xs: List[float]) -> float:\n",
    "    \"\"\"accepts a list and returns its Standerd deviation from mean\"\"\"\n",
    "    return math.sqrt(variance(xs))\n",
    "\n",
    "\n",
    "def covariance(xs: List[float], ys: List[float]) -> float:\n",
    "    \"\"\"Returns the covariance between two lists\"\"\"\n",
    "    assert len(xs) == len(ys)\n",
    "    return dot_product(error_from_mean(xs), error_from_mean(ys)) / (len(xs) - 1)\n",
    "\n",
    "\n",
    "def correlation(xs: List[float], ys: List[float]) -> float:\n",
    "    std_xs = std_deviation(xs)\n",
    "    std_ys = std_deviation(ys)\n",
    "    assert (std_xs and std_ys) > 0\n",
    "    return covariance(xs, ys) / (std_xs * std_ys)"
   ]
  },
  {
   "cell_type": "markdown",
   "metadata": {},
   "source": []
  },
  {
   "cell_type": "code",
   "execution_count": null,
   "metadata": {},
   "outputs": [],
   "source": [
    "def predict(x: Vector, beta: Vector) -> float:\n",
    "    \"\"\"returns the predicted y value,assumes first value of x_i is 1\"\"\"\n",
    "    return dot_product(x, beta)"
   ]
  },
  {
   "cell_type": "code",
   "execution_count": null,
   "metadata": {},
   "outputs": [],
   "source": [
    "def error(x: Vector, y: float, beta: Vector) -> float:\n",
    "    \"\"\"returns predicted value-actual value\"\"\"\n",
    "    return predict(x, beta) - y\n",
    "\n",
    "\n",
    "def squared_error(x: Vector, y: float, beta: Vector) -> float:\n",
    "    \"\"\"returns the squared value of error\"\"\"\n",
    "    return error(x, y, beta) ** 2"
   ]
  }
 ],
 "metadata": {
  "kernelspec": {
   "display_name": ".venv",
   "language": "python",
   "name": "python3"
  },
  "language_info": {
   "codemirror_mode": {
    "name": "ipython",
    "version": 3
   },
   "file_extension": ".py",
   "mimetype": "text/x-python",
   "name": "python",
   "nbconvert_exporter": "python",
   "pygments_lexer": "ipython3",
   "version": "3.11.7"
  }
 },
 "nbformat": 4,
 "nbformat_minor": 2
}
